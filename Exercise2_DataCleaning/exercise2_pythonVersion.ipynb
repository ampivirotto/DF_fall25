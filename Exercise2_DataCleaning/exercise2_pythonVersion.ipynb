{
 "cells": [
  {
   "cell_type": "markdown",
   "id": "39816b93",
   "metadata": {},
   "source": [
    "# Exercise 2: Communicating a Data Analysis\n",
    "\n",
    "## 1. Background\n",
    "\n",
    "You’re a data analyst for Steppr - a company that sells smart watch trackers (i.e. watches that count the number of steps along with tracking other personal health information). You’re tasked trying to answer two questions:\n",
    "1.\tIs there a significant difference in steps between self-reported activity levels among participants?\n",
    "2.\tWhat is the correlation between sleep duration and user reported stress levels?\n"
   ]
  },
  {
   "cell_type": "code",
   "execution_count": null,
   "id": "afed692a",
   "metadata": {},
   "outputs": [],
   "source": [
    "import numpy as np \n",
    "import pandas as pd"
   ]
  },
  {
   "cell_type": "markdown",
   "id": "7a732767",
   "metadata": {},
   "source": [
    "To read the dataset into memory, run the cell below. "
   ]
  },
  {
   "cell_type": "code",
   "execution_count": null,
   "id": "dbbcc8be",
   "metadata": {},
   "outputs": [],
   "source": [
    "watch_data = pd.read_csv(\"healthcare_watch_data.csv\")\n",
    "watch_data.head(20) ## display the first 20 rows of the table "
   ]
  },
  {
   "cell_type": "markdown",
   "id": "b861dc8c",
   "metadata": {},
   "source": [
    "There are a couple different ways we can easily start exploring the data. \n",
    "1. We can easily view the columns (variables) by calling the `.columns` function with the name of the data frame (i.e., `NAME.column`). \n",
    "2. We can see the number of columns and rows by using the `.shape` function with the name of the data frame (i.e., `NAME.shape`) where the output is (Rows, Columns).\n",
    "\n",
    "Try these in the cells below. "
   ]
  },
  {
   "cell_type": "code",
   "execution_count": null,
   "id": "7d4a32df",
   "metadata": {},
   "outputs": [],
   "source": [
    "## find the column names \n",
    "\n",
    "# CODE HERE \n"
   ]
  },
  {
   "cell_type": "code",
   "execution_count": null,
   "id": "931d1f71",
   "metadata": {},
   "outputs": [],
   "source": [
    "## find the number of rows and columns\n",
    "\n",
    "# CODE HERE\n"
   ]
  },
  {
   "cell_type": "code",
   "execution_count": null,
   "id": "1c30a6b3",
   "metadata": {},
   "outputs": [],
   "source": [
    "## You may also need want to view the table again to describe the data.\n",
    "watch_data"
   ]
  },
  {
   "cell_type": "markdown",
   "id": "26d7db50",
   "metadata": {},
   "source": [
    "## 2. Data Cleaning and Summary Statistics \n",
    "\n",
    "One of the things that you might want to communicate with your findings is the summary statistics for each variable in the dataset. This particular dataset has 7 columns: User ID, Heart Rate (BPM), Blood Oxygen Level (%), Step Count, Sleep Duration (hours), Activity Level, and Stress Level. \n",
    "\n",
    "Before we investigate the two questions, we want to take some time to clean and summarize the data. \n"
   ]
  },
  {
   "cell_type": "markdown",
   "id": "d817fba3",
   "metadata": {},
   "source": [
    "### 2a. Heart Rate\n",
    "\n",
    "\n",
    "Let's start with the Heart Rate column - let's figure out the range and distribution of values by calculating the **minimum**, **maximum**, **mean**, **median**, and **standard deviation**. \n",
    "\n",
    "Note that we can calculate these values by selecting the column of interest and using built in functions for these calculations. As an example you can calculate [maximum](https://pandas.pydata.org/docs/reference/api/pandas.Series.max.html#pandas.Series.max) (note the documentation has examples as well!) by doing:\n",
    "\n",
    "`TABLENAME[COLUMN NAME].max()` or in the case of our example `watch_data[\"Heart Rate (BPM)\"].max()`.\n",
    "\n",
    "NOTE: Make sure the column names match exactly (spacing and punctuation is important!) and that the column names are in quotes `\"\"`. \n",
    "\n",
    "Look at the other built-in functions listed in the [documentation](https://pandas.pydata.org/docs/reference/series.html#computations-descriptive-stats) and try figuring out the other functions you'll need. "
   ]
  },
  {
   "cell_type": "code",
   "execution_count": null,
   "id": "ce00e945",
   "metadata": {},
   "outputs": [],
   "source": [
    "## Let's calculate the min, max, mean, median, and standard deviation of the heart rate column. \n",
    "\n",
    "## minimum heart rate\n",
    "# CODE HERE\n",
    "min_heart_rate = ...\n",
    "\n",
    "## maximum heart rate\n",
    "# CODE HERE\n",
    "max_heart_rate = ...\n",
    "\n",
    "## mean heart rate\n",
    "# CODE HERE\n",
    "mean_heart_rate = ...\n",
    "\n",
    "## median heart rate\n",
    "# CODE HERE\n",
    "median_heart_rate = ...\n",
    "\n",
    "## standard deviation of heart rate\n",
    "# CODE HERE\n",
    "std_heart_rate = ...\n",
    "\n",
    "print(f\"Minimum Heart Rate: {min_heart_rate}\")\n",
    "print(f\"Maximum Heart Rate: {max_heart_rate}\")\n",
    "print(f\"Mean Heart Rate: {mean_heart_rate}\")\n",
    "print(f\"Median Heart Rate: {median_heart_rate}\")\n",
    "print(f\"Standard Deviation of Heart Rate: {std_heart_rate}\")"
   ]
  },
  {
   "cell_type": "markdown",
   "id": "c8665240",
   "metadata": {},
   "source": [
    "Now that we have some basic ideas about the distribution of values in the column, we can start thinking about whether these values seem reasonable. Let's make a copy of our table to make changes to so that we can preserve the original table. \n",
    "\n",
    "We can do this by using the code: \n",
    "\n",
    "`edited_table = original_table.copy(deep=True)`\n",
    "\n",
    "All data cleaning will be done on this edited_table. "
   ]
  },
  {
   "cell_type": "code",
   "execution_count": null,
   "id": "a6ffd86b",
   "metadata": {},
   "outputs": [],
   "source": [
    "## Make a copy of the table\n",
    "\n",
    "edited_watch_data = watch_data.copy(deep=True)\n",
    "\n"
   ]
  },
  {
   "cell_type": "markdown",
   "id": "db683177",
   "metadata": {},
   "source": [
    "Let's remove the values that are below or above the reasonable values you've determined. To remove values we can use conditionals to identify rows that fit a specific condition. `.loc` is a function built into dataframes that allows us to identify specific rows so we'll call that on our table. Let's look at some examples of this:\n",
    "\n",
    "`DATA_TABLE.loc[(Conditional Statement), COLUMN_NAME] = np.nan`  - Generic Version\n",
    "\n",
    "`edited_watch_data.loc[(edited_watch_data[\"Heart Rate (BPM)\"] > 120), COLUMN_NAME] = np.nan` - Sets every Heart Rate higher than 120 BPM to nan (null) values. \n",
    "\n",
    "Hint: If you want to replace unreasonable values on either end of the spectrum, you can either have two lines of code or use `|` to combine conditional statements, i.e. `(CONDITIONAL 1) | (CONDITIONAL 2)`. \n",
    "\n",
    "Once you replace the unreasonable values with nan values, we're going to replace all the nan values with the mean we calculated above. We can do this using the `.fillna` function which allows us to replace nan values in a given column with whatever value you'd like. This can be done by: \n",
    "\n",
    "`DATA_TABLE.fillna({COLUMN_NAME: VALUE}, inplace=True)`\n",
    "\n",
    "Try this below:"
   ]
  },
  {
   "cell_type": "code",
   "execution_count": null,
   "id": "b3e585ee",
   "metadata": {},
   "outputs": [],
   "source": [
    "## Remove unreasonable values and replace with nan values\n",
    "\n",
    "# CODE HERE\n",
    "\n",
    "\n",
    "## replace nan values with the mean heart rate\n",
    "# CODE HERE\n",
    "\n",
    "\n",
    "edited_watch_data"
   ]
  },
  {
   "cell_type": "markdown",
   "id": "91309f13",
   "metadata": {},
   "source": [
    "Great! Nowe can re-calculate the **minimum**, **maximum**, **mean**, **median**, and **standard deviation** for the Heart Rate column. Do you notice any differences?"
   ]
  },
  {
   "cell_type": "code",
   "execution_count": null,
   "id": "67985b5a",
   "metadata": {},
   "outputs": [],
   "source": [
    "## recalculate the min, max, mean, median, and standard deviation of the heart rate column.\n",
    "\n",
    "## minimum heart rate\n",
    "# CODE HERE\n",
    "min_heart_rate_edited = ...\n",
    "\n",
    "## maximum heart rate\n",
    "# CODE HERE\n",
    "max_heart_rate_edited = ...\n",
    "\n",
    "## mean heart rate\n",
    "# CODE HERE\n",
    "mean_heart_rate_edited = ...\n",
    "\n",
    "## median heart rate\n",
    "# CODE HERE\n",
    "median_heart_rate_edited = ...\n",
    "\n",
    "## standard deviation of heart rate\n",
    "# CODE HERE\n",
    "std_heart_rate_edited = ...\n",
    "\n",
    "print(f\"Minimum Heart Rate (Edited): {min_heart_rate_edited}\")\n",
    "print(f\"Maximum Heart Rate (Edited): {max_heart_rate_edited}\")\n",
    "print(f\"Mean Heart Rate (Edited): {mean_heart_rate_edited}\")\n",
    "print(f\"Median Heart Rate (Edited): {median_heart_rate_edited}\")\n",
    "print(f\"Standard Deviation of Heart Rate (Edited): {std_heart_rate_edited}\")"
   ]
  },
  {
   "cell_type": "markdown",
   "id": "91077a2f",
   "metadata": {},
   "source": [
    "### 2b. Blood Oxygen Levels \n",
    "\n",
    "Let's start by first calculating **minimum**, **maximum**, **mean**, **median**, and **standard deviation** for this column before any type of data cleaning. We can do this from the original table to ensure the table is completely preserved from any editing. \n",
    "\n",
    "Remember: We want to do this first calculation of summary statistics on the original table!\n"
   ]
  },
  {
   "cell_type": "code",
   "execution_count": null,
   "id": "144fc5eb",
   "metadata": {},
   "outputs": [],
   "source": [
    "# Calculate min, max, mean, median, and standard deviation for Blood Oxygen Levels column\n",
    "\n",
    "## minimum blood oxygen level\n",
    "# CODE HERE\n",
    "min_blood_oxygen = ...\n",
    "\n",
    "## maximum blood oxygen level\n",
    "# CODE HERE\n",
    "max_blood_oxygen = ...\n",
    "\n",
    "## mean blood oxygen level\n",
    "# CODE HERE\n",
    "mean_blood_oxygen = ...\n",
    "\n",
    "## median blood oxygen level\n",
    "# CODE HERE\n",
    "median_blood_oxygen = ...\n",
    "\n",
    "## standard deviation of blood oxygen level\n",
    "# CODE HERE\n",
    "std_blood_oxygen = ...\n",
    "\n",
    "print(f\"Minimum Blood Oxygen Level: {min_blood_oxygen}\")\n",
    "print(f\"Maximum Blood Oxygen Level: {max_blood_oxygen}\")\n",
    "print(f\"Mean Blood Oxygen Level: {mean_blood_oxygen}\")\n",
    "print(f\"Median Blood Oxygen Level: {median_blood_oxygen}\")\n",
    "print(f\"Standard Deviation of Blood Oxygen Level: {std_blood_oxygen}\")\n",
    "\n"
   ]
  },
  {
   "cell_type": "markdown",
   "id": "71d8f635",
   "metadata": {},
   "source": [
    "We can find the number of null (nan) values that are currently in a column by using a combination of two functions: `.isna()` and `.sum()`.\n",
    "\n",
    "Example:\n",
    "`TABLE_DATA[COLUMN_NAME].isna().sum()`"
   ]
  },
  {
   "cell_type": "code",
   "execution_count": null,
   "id": "a7b7625c",
   "metadata": {},
   "outputs": [],
   "source": [
    "## Find the number nan values in the Blood Oxygen Levels column\n",
    "\n",
    "## CODE HERE\n",
    "num_nan_blood_oxygen = ...\n",
    "print(f\"Number of NaN values in Blood Oxygen Level column: {num_nan_blood_oxygen}\")"
   ]
  },
  {
   "cell_type": "markdown",
   "id": "e8f3317b",
   "metadata": {},
   "source": [
    "Let's replace any unreasonable values with null values and then just leave the null values for this column (another potential solution to dealing with outliers and missingness is to just leave them missing!). Reminder you can do this by:\n",
    "\n",
    "`DATA_TABLE.loc[(Conditional Statement), COLUMN_NAME] = np.nan`  - Generic Version\n",
    "\n",
    "`edited_watch_data.loc[(edited_watch_data[\"Heart Rate (BPM)\"] > 120), COLUMN_NAME] = np.nan` - Sets every Heart Rate higher than 120 BPM to nan (null) values. \n",
    "\n",
    "\n",
    "**REMEMBER**: Any edits to the table should be made to our copied table! \n"
   ]
  },
  {
   "cell_type": "code",
   "execution_count": null,
   "id": "1d5c8a58",
   "metadata": {},
   "outputs": [],
   "source": [
    "## replace any unreasonable values with null values\n",
    "\n",
    "## CODE HERE\n",
    "\n",
    "\n",
    "edited_watch_data"
   ]
  },
  {
   "cell_type": "markdown",
   "id": "41d7feb0",
   "metadata": {},
   "source": [
    "Let's recalculate the **minimum**, **maximum**, **mean**, **median**, and **standard deviation** on our edited table for this column and paste them into our table of values. "
   ]
  },
  {
   "cell_type": "code",
   "execution_count": null,
   "id": "749a0362",
   "metadata": {},
   "outputs": [],
   "source": [
    "## recalculate the min, max, mean, median, and standard deviation of the blood oxygen level column.\n",
    "\n",
    "## minimum blood oxygen level\n",
    "# CODE HERE\n",
    "min_blood_oxygen_edited = ...\n",
    "\n",
    "## maximum blood oxygen level\n",
    "# CODE HERE\n",
    "max_blood_oxygen_edited = ...\n",
    "\n",
    "## mean blood oxygen level\n",
    "# CODE HERE\n",
    "mean_blood_oxygen_edited = ...\n",
    "\n",
    "## median blood oxygen level\n",
    "# CODE HERE\n",
    "median_blood_oxygen_edited = ...\n",
    "\n",
    "## standard deviation of blood oxygen level\n",
    "# CODE HERE\n",
    "std_blood_oxygen_edited = ...\n",
    "\n",
    "print(f\"Minimum Blood Oxygen Level (Edited): {min_blood_oxygen_edited}\")\n",
    "print(f\"Maximum Blood Oxygen Level (Edited): {max_blood_oxygen_edited}\")\n",
    "print(f\"Mean Blood Oxygen Level (Edited): {mean_blood_oxygen_edited}\")\n",
    "print(f\"Median Blood Oxygen Level (Edited): {median_blood_oxygen_edited}\")\n",
    "print(f\"Standard Deviation of Blood Oxygen Level (Edited): {std_blood_oxygen_edited}\")\n"
   ]
  },
  {
   "cell_type": "markdown",
   "id": "153a29b5",
   "metadata": {},
   "source": [
    "### 2c. Step Count\n",
    "\n",
    "Let's move onto the next column `Step Count` and calculate the summary statistics: **minimum**, **maximum**, **mean**, **median**, and **standard deviation**. \n",
    "\n",
    "Remember: We want to do this first calculation of summary statistics on the original table!"
   ]
  },
  {
   "cell_type": "code",
   "execution_count": null,
   "id": "e8acbe72",
   "metadata": {},
   "outputs": [],
   "source": [
    "# calculate min, max, mean, median, and standard deviation for Step Count column\n",
    "\n",
    "## minimum step count\n",
    "# CODE HERE\n",
    "\n",
    "\n",
    "## maximum step count\n",
    "# CODE HERE\n",
    "\n",
    "\n",
    "## mean step count\n",
    "# CODE HERE\n",
    "\n",
    "\n",
    "## median step count\n",
    "# CODE HERE\n",
    "\n",
    "\n",
    "## standard deviation of step count\n",
    "# CODE HERE\n",
    "\n",
    "\n",
    "## print out values\n",
    "# CODE HERE\n"
   ]
  },
  {
   "cell_type": "markdown",
   "id": "b7f05b9d",
   "metadata": {},
   "source": [
    "For the previous two columns you were told how to deal with outliers or null values (replacement with mean for Heart Rate and leaving as missing for Blood Oxygen), but for this variable you get to decide how you'd like to deal with outliers and missing values. Use the cell below to clean this column in the edited table. "
   ]
  },
  {
   "cell_type": "code",
   "execution_count": null,
   "id": "e077a5e9",
   "metadata": {},
   "outputs": [],
   "source": [
    "## use this space to clean the Step Count column in the edited table.\n",
    "\n",
    "## CODE HERE\n"
   ]
  },
  {
   "cell_type": "markdown",
   "id": "c6e7f692",
   "metadata": {},
   "source": [
    "Let's recalculate the summary statistics **minimum**, **maximum**, **mean**, **median**, and **standard deviation** on the edited table. "
   ]
  },
  {
   "cell_type": "code",
   "execution_count": null,
   "id": "74f67428",
   "metadata": {},
   "outputs": [],
   "source": [
    "# recalculate the min, max, mean, median, and standard deviation of the step count column.\n",
    "\n",
    "## minimum step count\n",
    "# CODE HERE\n",
    "\n",
    "\n",
    "## maximum step count\n",
    "# CODE HERE\n",
    "\n",
    "\n",
    "## mean step count\n",
    "# CODE HERE\n",
    "\n",
    "\n",
    "## median step count\n",
    "# CODE HERE\n",
    "\n",
    "\n",
    "## standard deviation of step count\n",
    "# CODE HERE\n",
    "\n",
    "\n",
    "## Print out values\n",
    "# CODE HERE\n",
    "\n"
   ]
  },
  {
   "cell_type": "markdown",
   "id": "a0ad8492",
   "metadata": {},
   "source": [
    "### 2d. Sleep Duration\n",
    "\n",
    "First calculate your summary statistics: **minimum**, **maximum**, **mean**, **median**, and **standard deviation** for the sleep duration column. \n",
    "\n",
    "Remember: We want to do this first calculation of summary statistics on the original table!"
   ]
  },
  {
   "cell_type": "code",
   "execution_count": null,
   "id": "4d79aefa",
   "metadata": {},
   "outputs": [],
   "source": [
    "## calculate min, max, mean, median, and standard deviation for Sleep Duration column\n",
    "\n",
    "## minimum sleep duration\n",
    "# CODE HERE\n",
    "\n",
    "\n",
    "## maximum sleep duration\n",
    "# CODE HERE\n",
    "\n",
    "## mean sleep duration\n",
    "# CODE HERE\n",
    "\n",
    "\n",
    "## median sleep duration\n",
    "# CODE HERE\n",
    "\n",
    "\n",
    "## standard deviation of sleep duration\n",
    "# CODE HERE\n",
    "\n",
    "## Print out values\n",
    "# CODE HERE\n"
   ]
  },
  {
   "cell_type": "markdown",
   "id": "46b47cc4",
   "metadata": {},
   "source": [
    "Again, you get to decide how you'd like to deal with outliers and null values for this column. "
   ]
  },
  {
   "cell_type": "code",
   "execution_count": null,
   "id": "6542d135",
   "metadata": {},
   "outputs": [],
   "source": [
    "## Use this space to clean the Sleep Duration (hours) column in the edited table.\n",
    "\n",
    "# CODE HERE\n"
   ]
  },
  {
   "cell_type": "markdown",
   "id": "b09df6cf",
   "metadata": {},
   "source": [
    "Just like in the previous steps let's recalculate the **minimum**, **maximum**, **mean**, **median**, and **standard deviation** for the cleaned Sleep Duration Column. "
   ]
  },
  {
   "cell_type": "code",
   "execution_count": null,
   "id": "0c238088",
   "metadata": {},
   "outputs": [],
   "source": [
    "## recalculate the min, max, mean, median, and standard deviation for the cleaned Sleep Duration Column.\n",
    "\n",
    "## minimum sleep duration\n",
    "# CODE HERE\n",
    "\n",
    "\n",
    "## maximum sleep duration\n",
    "# CODE HERE\n",
    "\n",
    "\n",
    "## mean sleep duration\n",
    "# CODE HERE\n",
    "\n",
    "\n",
    "## median sleep duration\n",
    "# CODE HERE\n",
    "\n",
    "\n",
    "## standard deviation of sleep duration\n",
    "# CODE HERE\n",
    "\n",
    "## Print out values\n",
    "# CODE HERE"
   ]
  },
  {
   "cell_type": "markdown",
   "id": "36751d75",
   "metadata": {},
   "source": [
    "### 2e. Activity Level \n",
    "\n",
    "Notice that the `Activity Level` column is not numerical data but instead text data where participants self-report their activity level. Let's see what values appear in this column first. We can do this by using the function `.unique()` which returns all the unique values from a given column. \n",
    "\n",
    "Example: \n",
    "`DATA_TABLE[COLUMN_NAME].unique()`"
   ]
  },
  {
   "cell_type": "code",
   "execution_count": null,
   "id": "1e5acbab",
   "metadata": {},
   "outputs": [],
   "source": [
    "## find unique values in Activity Level column\n",
    "\n",
    "# CODE HERE\n"
   ]
  },
  {
   "cell_type": "markdown",
   "id": "10b668fc",
   "metadata": {},
   "source": [
    "Let's go ahead and clean up this column. If you want to change the text in specific rows you can again use the `.loc()` function. \n",
    "\n",
    "Example:\n",
    "`DATA_TABLE.loc[CONDITIONAL, COLUMN_NAME] = NEW_VALUE`\n",
    "\n",
    "so if I wanted to switch all the instances of `Highly Active` to a new value of `Too Busy` I can do that by doing (not that I would recommend this as a good cleaning practices!)\n",
    "\n",
    "`edited_watch_data[edited_watch_data['Activity Level'] == 'Highly Active', 'Activity Level'] = 'Too Busy'`"
   ]
  },
  {
   "cell_type": "code",
   "execution_count": null,
   "id": "2df102bd",
   "metadata": {},
   "outputs": [],
   "source": [
    "## let's clean the Activity Level column. If you want to change the text in specific rows you can again use the .loc() function.\n",
    "\n",
    "# CODE HERE\n"
   ]
  },
  {
   "cell_type": "markdown",
   "id": "e54c48c0",
   "metadata": {},
   "source": [
    "### 2f. Stress Level \n",
    "\n",
    "Let's start by going back to calculating our **minimum**, **maximum**, **mean**, **median**, and **standard deviation** for this column. \n",
    "\n",
    "Remember: We want to do this first calculation of summary statistics on the original table!"
   ]
  },
  {
   "cell_type": "code",
   "execution_count": null,
   "id": "40c367f7",
   "metadata": {},
   "outputs": [],
   "source": [
    "## calculate min, max, mean, median, and standard deviation for Stress Level column\n",
    "\n",
    "## minimum stress level\n",
    "# CODE HERE\n",
    "\n",
    "\n",
    "## maximum stress level\n",
    "# CODE HERE\n",
    "\n",
    "\n",
    "## mean stress level\n",
    "# CODE HERE\n",
    "\n",
    "\n",
    "## median stress level\n",
    "# CODE HERE\n",
    "\n",
    "\n",
    "## standard deviation of stress level\n",
    "# CODE HERE\n",
    "\n",
    "## Print out values\n",
    "# CODE HERE\n"
   ]
  },
  {
   "cell_type": "markdown",
   "id": "e1cf5a73",
   "metadata": {},
   "source": [
    "Notice that you get an `TypeError`! Let's see what's in this column. "
   ]
  },
  {
   "cell_type": "code",
   "execution_count": null,
   "id": "7b88fe5a",
   "metadata": {},
   "outputs": [],
   "source": [
    "## find unique values in the Stress Level column\n",
    "\n",
    "edited_watch_data[\"Stress Level\"].unique()"
   ]
  },
  {
   "cell_type": "markdown",
   "id": "f9fb91a4",
   "metadata": {},
   "source": [
    "It looks like our values in this column are text not numbers and we have an extra value `Very High` which we'll have to deal with. First let's calculate our statistics without the `Very High` value before we deal with it. The code is provided for you below, but notice that it's essentially what we've done above but with the added step of excluding rows with the extra text value and then converting the values to floats (numerical values). \n",
    "\n",
    "Example:\n",
    "`DATA_TABLE[CONDITIONAL TO EXCLUDE TEXT][COLUMN_NAME].astype(float).min()`\n"
   ]
  },
  {
   "cell_type": "code",
   "execution_count": null,
   "id": "749fe716",
   "metadata": {},
   "outputs": [],
   "source": [
    "## calculate min, max, mean, median, and standard deviation for Stress Level column without the \"Very High\" value\n",
    "\n",
    "## minimum stress level\n",
    "min_stress_level_edited = watch_data[watch_data[\"Stress Level\"] != \"Very High\"][\"Stress Level\"].astype(float).min()\n",
    "\n",
    "## maximum stress level\n",
    "max_stress_level_edited = watch_data[watch_data[\"Stress Level\"] != \"Very High\"][\"Stress Level\"].astype(float).max()\n",
    "\n",
    "## mean stress level\n",
    "mean_stress_level_edited = watch_data[watch_data[\"Stress Level\"] != \"Very High\"][\"Stress Level\"].astype(float).mean()\n",
    "\n",
    "## median stress level\n",
    "median_stress_level_edited = watch_data[watch_data[\"Stress Level\"] != \"Very High\"][\"Stress Level\"].astype(float).median()\n",
    "\n",
    "## standard deviation of stress level\n",
    "std_stress_level_edited = watch_data[watch_data[\"Stress Level\"] != \"Very High\"][\"Stress Level\"].astype(float).std()\n",
    "\n",
    "print(f\"Minimum Stress Level (Edited): {min_stress_level_edited}\")\n",
    "print(f\"Maximum Stress Level (Edited): {max_stress_level_edited}\")\n",
    "print(f\"Mean Stress Level (Edited): {mean_stress_level_edited}\")\n",
    "print(f\"Median Stress Level (Edited): {median_stress_level_edited}\")\n",
    "print(f\"Standard Deviation of Stress Level (Edited): {std_stress_level_edited}\")"
   ]
  },
  {
   "cell_type": "markdown",
   "id": "831d67ef",
   "metadata": {},
   "source": [
    "Now do you think you can impute a value for `Very High`? If so, let's go ahead and do that in the space below or if not, let's replace the `Very High` value with a nan value so that we can convert the column to numbers. Remember our example for replacing a value in the table:\n",
    "\n",
    "Example:\n",
    "`DATA_TABLE.loc[CONDITIONAL, COLUMN_NAME] = NEW_VALUE`"
   ]
  },
  {
   "cell_type": "code",
   "execution_count": null,
   "id": "1fdca7b2",
   "metadata": {},
   "outputs": [],
   "source": [
    "## impute value for \"Very High\" stress level \n",
    "\n",
    "# CODE HERE\n",
    "\n",
    "\n",
    "## this converts Stress Level to floats\n",
    "edited_watch_data['Stress Level'] = edited_watch_data['Stress Level'].astype(float)"
   ]
  },
  {
   "cell_type": "markdown",
   "id": "83cf204a",
   "metadata": {},
   "source": [
    "Let's recalculate the **minimum**, **maximum**, **mean**, **median**, and **standard deviation** if you decided to impute the `Very High` value. "
   ]
  },
  {
   "cell_type": "code",
   "execution_count": null,
   "id": "3d8396cd",
   "metadata": {},
   "outputs": [],
   "source": [
    "## recalculate the min, max, mean, median, and standard deviation for the cleaned stress column.\n",
    "\n",
    "## minimum stress level\n",
    "# CODE HERE\n",
    "min_stress_level_final = ...\n",
    "\n",
    "## maximum stress level\n",
    "# CODE HERE\n",
    "max_stress_level_final = ...\n",
    "\n",
    "## mean stress level\n",
    "# CODE HERE\n",
    "mean_stress_level_final = ...\n",
    "\n",
    "## median stress level\n",
    "# CODE HERE\n",
    "median_stress_level_final = ...\n",
    "\n",
    "## standard deviation of stress level\n",
    "# CODE HERE\n",
    "std_stress_level_final = ...\n",
    "\n",
    "## Print out values\n",
    "print(f\"Minimum Stress Level (Final): {min_stress_level_final}\")\n",
    "print(f\"Maximum Stress Level (Final): {max_stress_level_final}\")\n",
    "print(f\"Mean Stress Level (Final): {mean_stress_level_final}\")\n",
    "print(f\"Median Stress Level (Final): {median_stress_level_final}\")\n",
    "print(f\"Standard Deviation of Stress Level (Final): {std_stress_level_final}\")\n",
    "\n"
   ]
  },
  {
   "cell_type": "markdown",
   "id": "6f6f2704",
   "metadata": {},
   "source": [
    "## 3. Data Analysis\n",
    "\n",
    "Now that you’ve explored, cleaned, and summarized your data, it’s time to analyze it. The goal in this section is to test your research questions and interpret your findings clearly and thoughtfully.\n",
    "We can return to our two questions: \n",
    "1.\tIs there a significant difference in the number of steps taken across self-reported activity levels among participants? \n",
    "2.\tWhat is the correlation between sleep duration and user reported stress levels?\n",
    "\n",
    "### 3a. Does cleaning make a difference?\n",
    "\n",
    "Let's compare the visual distribution of heart rate against blood oxygen level for both our original data and our cleaned data to see if there's any difference. We can visualize this data by creating a plot using the module `matplotlib.pyplot` which we will load with the alias `plt`. The documentation for the [matplotlib package](https://matplotlib.org/3.5.3/plot_types/index.html) is great, and we're going to focus on the [scatter function](https://matplotlib.org/3.5.3/api/_as_gen/matplotlib.axes.Axes.scatter.html#matplotlib.axes.Axes.scatter). An example:\n",
    "\n",
    "`plt.scatter(X_ARRAY, Y_ARRAY)` where the `X_ARRAY` and `Y_ARRAY` are the columns from the table. \n",
    "\n",
    "You should also include x-axis labels, y-axis labels, and a title to the figure which you can do with: \n",
    "`plt.xlabel(\"TEXT\")`\n",
    "`plt.ylabel(\"TEXT\")`\n",
    "`plt.title(\"TEXT\")`\n",
    "\n"
   ]
  },
  {
   "cell_type": "code",
   "execution_count": null,
   "id": "3b578efe",
   "metadata": {},
   "outputs": [],
   "source": [
    "## scatter plot for the original data of Heart Rate vs. Blood Oxygen Level\n",
    "\n",
    "import matplotlib.pyplot as plt\n",
    "\n",
    "## CODE HERE\n",
    "\n"
   ]
  },
  {
   "cell_type": "markdown",
   "id": "18300ac3",
   "metadata": {},
   "source": [
    "### 3b. Comparing Step Count Across Activity Levels\n",
    "\n",
    "Let’s revisit the first research question: Is there a significant difference in the number of steps taken across self-reported activity levels among participants?\n",
    "\n",
    "This time we're going to use a different package `seaborn` to visualize this data. First we load the `seaborn` module with the alias `sns`. Let's create either a histogram or a box plot for each of the activity levels to compare their distributions of step counts. \n",
    "\n",
    "You'll find that seaborn is slightly more intuitive than matplotlib. Seaborn's `.histplot` [function](https://seaborn.pydata.org/generated/seaborn.histplot.html) can be called with `sns.histplot(data=DATA_TABLE, x=X_VALUE, hue='GROUP_VALUE')`.\n",
    "\n",
    "For the `.boxplot` [option](https://seaborn.pydata.org/generated/seaborn.boxplot.html) you can create this with `sns.boxplot(x='X_VALUE', y='Y_VALUE', data = DATA_TABLE)`. \n",
    "\n",
    "Again labels and titles can be done with `plt`. \n",
    "\n"
   ]
  },
  {
   "cell_type": "code",
   "execution_count": null,
   "id": "38c91e28",
   "metadata": {},
   "outputs": [],
   "source": [
    "## create a histogram or box plot for each of the activity levels to compare their distributions of step counts.\n",
    "\n",
    "import seaborn as sns\n",
    "\n",
    "## CODE HERE"
   ]
  },
  {
   "cell_type": "markdown",
   "id": "689b0e9c",
   "metadata": {},
   "source": [
    "Code is provided below to calculate whether there is a signficant difference between the three groups. Note the p-value has to be below 0.05 for it to be significant. "
   ]
  },
  {
   "cell_type": "code",
   "execution_count": null,
   "id": "931fbea1",
   "metadata": {},
   "outputs": [],
   "source": [
    "## calculate whether there is a significant difference in the number of steps taken across self-reported activity levels among participants.\n",
    "\n",
    "from scipy.stats import f_oneway\n",
    "sedentary_steps = edited_watch_data[edited_watch_data[\"Activity Level\"] == \"Sedentary\"][\"Step Count\"].dropna()\n",
    "active_steps = edited_watch_data[edited_watch_data[\"Activity Level\"] == \"Active\"][\"Step Count\"].dropna()\n",
    "very_active_steps = edited_watch_data[edited_watch_data[\"Activity Level\"] == \"Highly Active\"][\"Step Count\"].dropna()\n",
    "\n",
    "f_stat, p_value = f_oneway(sedentary_steps, active_steps, very_active_steps)\n",
    "print(f\"F-statistic: {f_stat}, P-value: {p_value}\")"
   ]
  },
  {
   "cell_type": "markdown",
   "id": "be8e1237",
   "metadata": {},
   "source": [
    "### 3c. Relationship Between Sleep Duration and Stress Level \n",
    "\n",
    "Your second research question asks: What is the correlation between sleep duration and user reported stress levels?\n",
    "Again, let’s start with a visualization. Create a scatter plot with Sleep Duration on the x-axis and Stress Level on the y-axis.\n",
    "\n",
    "You can either use  `plt` like you did above for the scatter plot or use `seaborn`'s `.scatterplot` function like:\n",
    "\n",
    "`sns.scatterplot(data=DATA_TABLE, x = 'X_VALUE', y='Y_VALUE')`\n"
   ]
  },
  {
   "cell_type": "code",
   "execution_count": null,
   "id": "9c7728a0",
   "metadata": {},
   "outputs": [],
   "source": [
    "## visualize sleep duration vs stress level in a scatter plot\n",
    "\n",
    "# CODE HERE"
   ]
  },
  {
   "cell_type": "markdown",
   "id": "ff6d4c8c",
   "metadata": {},
   "source": [
    "We can calculate whether there's a correlation between these two variables (but remember this doesn't necessarily indicate causation!) by using the function `.corr()` on our column of interest. \n",
    "\n",
    "Example:\n",
    "\n",
    "`DATA_TABLE['COLUMN_1'].corr(DATA_TABLE['COLUMN_2'])`"
   ]
  },
  {
   "cell_type": "code",
   "execution_count": null,
   "id": "6f410182",
   "metadata": {},
   "outputs": [],
   "source": [
    "## calculate r value between sleep duration and stress level\n",
    "\n",
    "r_value = ...  # CODE HERE\n",
    "\n",
    "print(r_value)"
   ]
  },
  {
   "cell_type": "markdown",
   "id": "a62fbf51",
   "metadata": {},
   "source": [
    "## Congratulations! \n",
    "\n",
    "#### You've completed data cleaning on this dataset. Make sure you submit your final edited table, the word document, and any coding documents (this notebook) that you may have generated. "
   ]
  }
 ],
 "metadata": {
  "kernelspec": {
   "display_name": "base",
   "language": "python",
   "name": "python3"
  },
  "language_info": {
   "codemirror_mode": {
    "name": "ipython",
    "version": 3
   },
   "file_extension": ".py",
   "mimetype": "text/x-python",
   "name": "python",
   "nbconvert_exporter": "python",
   "pygments_lexer": "ipython3",
   "version": "3.12.3"
  }
 },
 "nbformat": 4,
 "nbformat_minor": 5
}
