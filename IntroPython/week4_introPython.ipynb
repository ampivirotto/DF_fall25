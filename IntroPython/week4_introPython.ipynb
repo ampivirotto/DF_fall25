{
 "cells": [
  {
   "cell_type": "markdown",
   "metadata": {},
   "source": [
    "# Workshop 1: Introduction to Python \n",
    "This workshop is modified from examples from [Computational and Inferential Thinking: The Foundations of Data Science](https://inferentialthinking.com/chapters/intro.html).\n",
    "\n",
    "Python is a high-level, interpreted programming language known for its simplicity and readability. It is widely used in various domains, including web development, data analysis, text analysis, artificial intelligence, scientific computing, and more. Python's versatility and extensive library ecosystem make it a popular choice for both beginners and experienced developers.\n",
    "\n",
    "## Applications of Python\n",
    "| **Category** | **Libraries/Tools** | **Example Use Case**|\n",
    "| -------------|---------------------|---------------------|\n",
    "| Web Development | Django, Flask | Build a blog, dashboard, or interactive visualization|\n",
    "| Data Science | pandas, NumPy, Matplotlib | Analyze, clean, and visualize quanitative or qualitative data|\n",
    "| Automation | os, shutil, sched | Rename a batch of files |\n",
    "| Text Analyis | spaCy, NLTK | Sentiment analysis on reviews |\n",
    "| Mapping | GeoPandas, Folium, geopy | Plot locations on an interactive map |\n",
    "| Data Management | pandas, `csv`, `xlm`, `json` | Clean and standardize metadata for a digital collection |\n",
    "| Webscraping | BeautifulSoup, Scrapy | Collect daily weather data |\n",
    "| Machine Learning | scikit-learn, TensorFlow | Classify emails as spam|\n",
    "| Data Processing/Cleaning | pandas, regex, `csv` | Clean historical census data for analysis |\n",
    "| Education |  Jupyter | Provide introductory material in an easy format |\n"
   ]
  },
  {
   "cell_type": "markdown",
   "metadata": {},
   "source": [
    "## Data Types\n",
    "\n",
    "Similar to learning other languages, programming languages also depend on grammatical rules that govern the way the language is utilized. \n",
    "\n",
    "Data types are the kinds of values you can use in Python. Every value in Python has a type and unlike other many other languages you do not have to explicitly set these types. However because of that you have to be diligent to keep track of the types as you go. \n",
    "\n",
    "Each type will have it's own set of functions and expressions that can performed. \n",
    "\n",
    "### Basic Data Types\n",
    "| Type | Example | Description |\n",
    "|------|---------|-------------|\n",
    "| `int`| 42, -2, 3244235 | Whole numbers (positive or negative) |\n",
    "| `float` | 3.193727, 0.55, -2423.34243 | Decimal numbers |\n",
    "| `str` | \"hello\", \"hello, world\", \"h\" | Text (string of characters) | \n",
    "| `bool` | True, False | Boolean values (logic, conditionals) | "
   ]
  },
  {
   "cell_type": "markdown",
   "metadata": {},
   "source": [
    "Example of discrete and continuous observations. \n",
    "\n",
    "Discrete:\n",
    "![Penguin with hatchlings](img/penguin_clutch.jpg)\n",
    "\n",
    "Continuous:\n",
    "<img src=\"img/penguin_bill.png\" alt=\"Penguin Bill Measurements\" width=\"300\"/>"
   ]
  },
  {
   "cell_type": "markdown",
   "metadata": {},
   "source": [
    "**Data Type 1:** Integers (Ints) - Whole numbers either positive or negative. "
   ]
  },
  {
   "cell_type": "code",
   "execution_count": null,
   "metadata": {},
   "outputs": [],
   "source": [
    "## Now let's go through some examples of these data types \n",
    "\n",
    "## number of penguins - ints\n",
    "18 \n",
    "10\n",
    "324234\n"
   ]
  },
  {
   "cell_type": "markdown",
   "metadata": {},
   "source": [
    "### Variable Names \n",
    "\n",
    "Instead of solving for the same thing again and again, often times we will give names to the expressions we compute. This can be seen as the same thing as setting something equal to variable in algebra. We can do this through assignment statements by setting a name equal to an expression using an equal sign (=). Let's try some examples. \n",
    "\n",
    "You will always see the variable name on the left side of the equal sign and the value or expression on the right side. \n",
    "\n",
    "` VARIABLE NAME = EXPRESSION OR VALUE`\n"
   ]
  },
  {
   "cell_type": "code",
   "execution_count": null,
   "metadata": {},
   "outputs": [],
   "source": [
    "num_of_penguins = 18"
   ]
  },
  {
   "cell_type": "markdown",
   "metadata": {},
   "source": [
    "### Expresssions\n",
    "\n",
    "We can combine our data types or values to create more complex expressions. "
   ]
  },
  {
   "cell_type": "code",
   "execution_count": null,
   "metadata": {},
   "outputs": [],
   "source": [
    "3 * 4"
   ]
  },
  {
   "cell_type": "code",
   "execution_count": null,
   "metadata": {},
   "outputs": [],
   "source": [
    "num_of_penguins_on_island_one = 10 + 18 + 22 \n",
    "print(num_of_penguins_on_island_one)"
   ]
  },
  {
   "cell_type": "markdown",
   "metadata": {},
   "source": [
    "We can also do other types of mathematics: \n",
    "\n",
    "| Operation | Symbol | Example | Output |\n",
    "|------|---------|-------------|--------|\n",
    "| Addition | `+` | `1 + 1`| `2`|\n",
    "| Subtraction |  `-` | `2 - 1` | `1`|\n",
    "| Multiplication | `*` | `2 * 2` | `4`|\n",
    "| Division | `/` | ` 3 / 1 ` | `3`|\n",
    "| Division (floor) | `//` | `10 // 3`| `3`|\n",
    "| Remainder | `%` | `10 % 3` | `1`|\n",
    "| Exponent | `**` | ` 3 ** 2` | `9`| "
   ]
  },
  {
   "cell_type": "markdown",
   "metadata": {},
   "source": [
    "**Data Type 2:** Floats - Decimal numbers either positive or negative. "
   ]
  },
  {
   "cell_type": "code",
   "execution_count": null,
   "metadata": {},
   "outputs": [],
   "source": [
    "##  bill sizes and averages - floats \n",
    "average_penguins_per_species_island_one = num_of_penguins_on_island_one / 3.0\n",
    "print(average_penguins_per_species_island_one)\n",
    "\n",
    "12.2 \n",
    "\n",
    "bill_length_mm = 12.2\n",
    "bill_depth_mm = 5.1"
   ]
  },
  {
   "cell_type": "markdown",
   "metadata": {},
   "source": [
    "Let's try combining variable names with what you know about expressions and numbers. \n",
    "\n",
    "\n",
    "**Try this yourself!** <br /> Let’s combine what we know about variable names, expressions, and int/floats to calculate the adjusted body mass of a penguin after a simulated feeding period. Suppose you observe a penguin that weighs 4,200 grams. Based on typical feeding patterns, you expect the penguin to gain 8% of its body mass over a week. After gaining weight, the penguin is tagged, and the tagging equipment adds an additional 150 grams.\n",
    "\n",
    "First, calculate the weight gain. Then add the equipment weight to get the total adjusted body mass."
   ]
  },
  {
   "cell_type": "code",
   "execution_count": null,
   "metadata": {},
   "outputs": [],
   "source": [
    "## Try this yourself by setting the penguin's weight, calculating the weight gain, and then calculating the adjusted body mass.\n",
    "## Print this out in both grams and kg (1 kg = 1000 g)\n",
    "\n",
    "penguin_weight = ...\n",
    "weight_gain = ...\n",
    "equipment_weight = ...\n",
    "adjusted_body_mass = ...\n",
    "\n",
    "print(adjusted_body_mass, weight_gain)\n",
    "print(\"Adjusted body mass:\", adjusted_body_mass, \"grams or \", adjusted_body_mass / 1000, \"kg\")"
   ]
  },
  {
   "cell_type": "markdown",
   "metadata": {},
   "source": [
    "### Strings\n",
    "\n",
    "So far we've just talked about numbers, but what about data in text form? A piece of text represented in a computer is called a *string*. A string can be a single character, a word, a sentence, or even an entire corpus of material. Let's look at some examples of strings. \n",
    "\n",
    "**Data Type 3:** Strings - series of one of more characters of text. This could include even numbers when enclosed with quotes. Quotation used can be single '' or double \"\". "
   ]
  },
  {
   "cell_type": "code",
   "execution_count": null,
   "metadata": {},
   "outputs": [],
   "source": [
    "'hello, world'"
   ]
  },
  {
   "cell_type": "code",
   "execution_count": null,
   "metadata": {},
   "outputs": [],
   "source": [
    "'h'"
   ]
  },
  {
   "cell_type": "markdown",
   "metadata": {},
   "source": [
    "There are lots of interesting things we can do with strings - we'll talk about some of the more complicated ones in minute - but one of the easiest things to do with strings is to combine them. We can do this with a simple addition sign (+)."
   ]
  },
  {
   "cell_type": "code",
   "execution_count": null,
   "metadata": {},
   "outputs": [],
   "source": [
    "'data' + 'science'"
   ]
  },
  {
   "cell_type": "code",
   "execution_count": null,
   "metadata": {},
   "outputs": [],
   "source": [
    "\"data\" + 6"
   ]
  },
  {
   "cell_type": "markdown",
   "metadata": {},
   "source": [
    "## Functions\n",
    "\n",
    "Let's say we're doing the same thing again and again. We can create a function - which is esssentially a bit of code that performs some task when we call it. What do we mean when we call it?  Functions all have names so we can use those names when we want to invoke a specific function. There are several functions that are built-into the Python language including: print(), max(), type(), min(), mean(), and many more.  Let's try out a couple of these: "
   ]
  },
  {
   "cell_type": "code",
   "execution_count": null,
   "metadata": {},
   "outputs": [],
   "source": [
    "'Today is Monday'\n",
    "print('Hello, world')\n",
    "'Today is Monday'"
   ]
  },
  {
   "cell_type": "code",
   "execution_count": null,
   "metadata": {},
   "outputs": [],
   "source": [
    "len('abcdefghijklmnopqrstuvwxyz')"
   ]
  },
  {
   "cell_type": "code",
   "execution_count": null,
   "metadata": {},
   "outputs": [],
   "source": [
    "max(1, 2, 3, 4)"
   ]
  },
  {
   "cell_type": "code",
   "execution_count": null,
   "metadata": {},
   "outputs": [],
   "source": [
    "newNumber = int('5')\n",
    "newNumber + 10"
   ]
  },
  {
   "cell_type": "markdown",
   "metadata": {},
   "source": [
    "We also have several different kinds of string specific functions such as .upper() and .replace(). Notice these have to be used with strings (as indicated by the dot (.)) so you would call this with string.upper() - let's look at some examples."
   ]
  },
  {
   "cell_type": "code",
   "execution_count": null,
   "metadata": {},
   "outputs": [],
   "source": [
    "word = 'data'\n",
    "word.upper()"
   ]
  },
  {
   "cell_type": "code",
   "execution_count": null,
   "metadata": {},
   "outputs": [],
   "source": [
    "word"
   ]
  },
  {
   "cell_type": "markdown",
   "metadata": {},
   "source": [
    "**Try this yourself!** <br /> Given the heights of the three of the highest scoring WNBA players (Diane Taurasi, Tamika Catchings, Tina Thompson), write an expression that computes the smallest difference between any of the three heights. Your expression shouldn't have any numbers in it, only function calls and the names `diane`, `tamika`, and `tinaT`. Give the value of your expression the name `min_height_difference`."
   ]
  },
  {
   "cell_type": "code",
   "execution_count": null,
   "metadata": {},
   "outputs": [],
   "source": [
    "# The three players' heights, in meters:\n",
    "diane =  1.83 # Diane Taurasi is 6'0\"\n",
    "tamika = 1.91  # Tamika Catchings 6'3\"\n",
    "tineT = 1.88 # Tina Thompson is 6'2\"\n",
    "\n",
    "# We'd like to look at all 3 pairs of heights, compute the absolute\n",
    "# difference between each pair, and then find the smallest of those\n",
    "# 3 absolute differences.  This is left to you!  If you're stuck,\n",
    "# try computing the value for each step of the process. \n",
    "min_height_difference = ..."
   ]
  },
  {
   "cell_type": "markdown",
   "metadata": {},
   "source": [
    "Let's go back to our penguin example and look at some more string functions. "
   ]
  },
  {
   "cell_type": "code",
   "execution_count": null,
   "metadata": {},
   "outputs": [],
   "source": [
    "num_penguins = 18"
   ]
  },
  {
   "cell_type": "code",
   "execution_count": null,
   "metadata": {},
   "outputs": [],
   "source": [
    "## We can also convert numbers to strings\n",
    "num_penguins_str = str(num_penguins)\n",
    "print(num_penguins_str, type(num_penguins_str))\n",
    "print(num_penguins, type(num_penguins))"
   ]
  },
  {
   "cell_type": "code",
   "execution_count": null,
   "metadata": {},
   "outputs": [],
   "source": [
    "## Now let's look more at strings "
   ]
  },
  {
   "cell_type": "code",
   "execution_count": null,
   "metadata": {},
   "outputs": [],
   "source": [
    "## we can do a couple different things with strings, like finding their length\n",
    "species = \"gentoo\"\n",
    "species_length = len(species)\n",
    "print(species_length)"
   ]
  },
  {
   "cell_type": "code",
   "execution_count": null,
   "metadata": {},
   "outputs": [],
   "source": [
    "## or we can add strings together\n",
    "region = \"Antarctica\" \n",
    "island = \"Dream\"\n",
    "full_location = region + \" - \" + island\n",
    "full_title = \"The \" + species + \" penguin from \" + full_location\n",
    "print(full_title)\n"
   ]
  },
  {
   "cell_type": "code",
   "execution_count": null,
   "metadata": {},
   "outputs": [],
   "source": [
    "## we can also strip characters from strings, select specific words or characters, and convert them to uppercase or lowercase\n",
    "species = \"  Gentoo Penguin  x\"\n",
    "stripped_species = species.strip('x').strip()\n",
    "print(species)\n",
    "print(stripped_species)"
   ]
  },
  {
   "cell_type": "code",
   "execution_count": null,
   "metadata": {},
   "outputs": [],
   "source": [
    "last_word = full_location.split()[-1]\n",
    "print(last_word)"
   ]
  },
  {
   "cell_type": "code",
   "execution_count": null,
   "metadata": {},
   "outputs": [],
   "source": [
    "uppercase_location = full_location.upper()\n",
    "print(uppercase_location)"
   ]
  },
  {
   "cell_type": "code",
   "execution_count": null,
   "metadata": {},
   "outputs": [],
   "source": [
    "\n",
    "lowercase_location = full_location.lower()\n",
    "print(lowercase_location)"
   ]
  },
  {
   "cell_type": "markdown",
   "metadata": {},
   "source": [
    "### Collection Data Types\n",
    "| Type | Example | Description |\n",
    "|------|---------|-------------|\n",
    "| `list`| `[1, 2, 3]` or `[99, 'hello', False]` | Ordered, changeable sequence |\n",
    "| `dict` | `{\"key\":\"value\"}` or `{\"Ada\":['Librarian', 42, \"Carpenter\"]}` | Key-value pairs |\n",
    "| `tuple` | `(1, 2, 3, 3)` | Ordered, unchangeable sequence | \n",
    "| `set` | `set(1, 2, 3)` | Unordered collection of unique values | \n",
    "\n",
    "\n",
    "**Data Type 4:** List - an ordered, mutable collection of items. Uses square brackets [ ]"
   ]
  },
  {
   "cell_type": "code",
   "execution_count": null,
   "metadata": {},
   "outputs": [],
   "source": [
    "## Now let's look at lists, which are a way to store multiple items in a single variable\n",
    "islands = [\"Torgersen\", \n",
    "           \"Biscoe\", \n",
    "           \"Dream\", \n",
    "           \"Torgersen\", \n",
    "           \"Anvers\"]\n",
    "print(islands)\n",
    "print(type(islands))\n"
   ]
  },
  {
   "cell_type": "markdown",
   "metadata": {},
   "source": [
    "We can access items in lists by identifying their \"index\" which is just the position of the item in the list. \n",
    "\n",
    "Unlike some other languages (R and MATLAB), python starts counting at 0. So our first item in the list is actually in index `0`. "
   ]
  },
  {
   "cell_type": "code",
   "execution_count": null,
   "metadata": {},
   "outputs": [],
   "source": [
    "## we can select specific items from a list using their index (Python always starts counting at 0)\n",
    "first_island = islands[0]\n",
    "print(first_island)"
   ]
  },
  {
   "cell_type": "code",
   "execution_count": null,
   "metadata": {},
   "outputs": [],
   "source": [
    "## an easy way to get the last item is to use a negative index\n",
    "last_island = islands[-1]\n",
    "print(last_island)"
   ]
  },
  {
   "cell_type": "code",
   "execution_count": null,
   "metadata": {},
   "outputs": [],
   "source": [
    "## we can also add items to a list using append()\n",
    "islands.append(\"New Island\")\n",
    "print(islands)\n"
   ]
  },
  {
   "cell_type": "code",
   "execution_count": null,
   "metadata": {},
   "outputs": [],
   "source": [
    "## or we can remove items using remove()\n",
    "islands.remove(\"Torgersen\")\n",
    "print(islands)\n"
   ]
  },
  {
   "cell_type": "code",
   "execution_count": null,
   "metadata": {},
   "outputs": [],
   "source": [
    "## we can also sort lists\n",
    "islands.sort()\n",
    "print(islands)"
   ]
  },
  {
   "cell_type": "markdown",
   "metadata": {},
   "source": [
    "**Data Type 5:** Dictionary - Mutable collection of items stored with key-value pairs. Uses curly brackets { }"
   ]
  },
  {
   "cell_type": "code",
   "execution_count": null,
   "metadata": {},
   "outputs": [],
   "source": [
    "## now let's look at dictionaries, which are a way to store key-value pairs\n",
    "\n",
    "penguin_info = {\n",
    "    \"id\": 1,\n",
    "    \"species\": \"Gentoo\",\n",
    "    \"island\": \"Biscoe\",\n",
    "    \"weight\": 4.5,\n",
    "    \"bill_length\": 0.2,\n",
    "    \"bill_depth\": 0.05\n",
    "    \n",
    "}\n",
    "print(penguin_info)\n",
    "\n",
    "print(type(penguin_info))\n",
    "\n"
   ]
  },
  {
   "cell_type": "code",
   "execution_count": null,
   "metadata": {},
   "outputs": [],
   "source": [
    "## we can access specific values in a dictionary using their keys\n",
    "species = penguin_info[\"species\"]\n",
    "print(species)\n"
   ]
  },
  {
   "cell_type": "code",
   "execution_count": null,
   "metadata": {},
   "outputs": [],
   "source": [
    "## we can also add new key-value pairs to a dictionary\n",
    "penguin_info[\"age\"] = 3\n",
    "print(penguin_info)\n"
   ]
  },
  {
   "cell_type": "code",
   "execution_count": null,
   "metadata": {},
   "outputs": [],
   "source": [
    "## or we can remove key-value pairs using the del keyword\n",
    "del penguin_info[\"weight\"]\n",
    "print(penguin_info)"
   ]
  },
  {
   "cell_type": "code",
   "execution_count": null,
   "metadata": {},
   "outputs": [],
   "source": [
    "## we can have dictionaries within dictionaries, which is useful for more complex data structures\n",
    "summer_population = {\n",
    "    1: {\n",
    "        \"id\": 1,\n",
    "        \"species\": \"Gentoo\",\n",
    "        \"island\": \"Biscoe\",\n",
    "        \"weight\": 4.5,\n",
    "        \"bill_length\": 0.2,\n",
    "        \"bill_depth\": 0.05\n",
    "    },\n",
    "    22: {\n",
    "        \"id\": 22,\n",
    "        \"species\": \"Adelie\",\n",
    "        \"island\": \"Torgersen\",\n",
    "        \"weight\": 3.8,\n",
    "        \"bill_length\": 0.18,\n",
    "        \"bill_depth\": 0.04\n",
    "    }\n",
    "}\n",
    "print(summer_population)\n"
   ]
  },
  {
   "cell_type": "code",
   "execution_count": null,
   "metadata": {},
   "outputs": [],
   "source": [
    "## we can access specific books in the collection using their keys\n",
    "penguin_id = 22\n",
    "penguin_details = summer_population[penguin_id]\n",
    "print(penguin_details)\n",
    "\n",
    "## we can also access specific values within the nested dictionary\n",
    "penguin_weight = penguin_details[\"weight\"]\n",
    "print(penguin_weight)\n",
    "\n",
    "average_bill_length = summer_population[1][\"bill_length\"] + summer_population[22][\"bill_length\"] / 2\n",
    "print(average_bill_length)"
   ]
  },
  {
   "cell_type": "markdown",
   "metadata": {},
   "source": [
    "## Loops and Conditionals \n",
    "\n",
    "### Conditionals or Comparisons\n",
    "Sometimes we want to be able to compare different variables or expressions. This could be to find matching amounts/text or perhaps you want to identify when a specifc number rises above a certain threshold. We can do this through using comparison statements. \n",
    "\n",
    "**Data Type 6:** Booleans - represent either True or False often in logic or conditional statements"
   ]
  },
  {
   "cell_type": "code",
   "execution_count": null,
   "metadata": {},
   "outputs": [],
   "source": [
    "1 > 5"
   ]
  },
  {
   "cell_type": "code",
   "execution_count": null,
   "metadata": {},
   "outputs": [],
   "source": [
    "5 > 1"
   ]
  },
  {
   "cell_type": "code",
   "execution_count": null,
   "metadata": {},
   "outputs": [],
   "source": [
    "## let's look at some examples of using conditional statements \n",
    "\n",
    "penguin_1_weight = summer_population[1][\"weight\"]\n",
    "penguin_22_weight = summer_population[22][\"weight\"]\n",
    "\n",
    "\n",
    "penguin_1_weight > penguin_22_weight\n",
    "\n",
    "penguin_1_weight == penguin_22_weight"
   ]
  },
  {
   "cell_type": "markdown",
   "metadata": {},
   "source": [
    "### Methods of comparison \n",
    "\n",
    "| Comparison | Operator | \n",
    "|------|---------|\n",
    "| Less than | `<` |\n",
    "| Greater than | `>` | \n",
    "| Less than or equal to | `<=` | \n",
    "| Greater than or equal to | `>=` |\n",
    "| Equal | `==` |\n",
    "| Not equal | `!=` |"
   ]
  },
  {
   "cell_type": "code",
   "execution_count": null,
   "metadata": {},
   "outputs": [],
   "source": [
    "## We can combine if statements with conditional operators to help move through the code \n",
    "\n",
    "if penguin_1_weight > penguin_22_weight:\n",
    "    print(\"Penguin 1 is heavier than Penguin 22\")\n",
    "elif penguin_1_weight < penguin_22_weight:\n",
    "    print(\"Penguin 1 is lighter than Penguin 22\")\n",
    "else:\n",
    "    print(\"Penguin 1 and Penguin 22 have the same weight\")\n",
    "\n"
   ]
  },
  {
   "cell_type": "code",
   "execution_count": null,
   "metadata": {},
   "outputs": [],
   "source": [
    "## we can also combine multiple conditions together using keywords like 'and', 'or', and 'not' \n",
    "if penguin_1_weight > 3.7 and penguin_22_weight > 3.7:\n",
    "    print(\"Both penguins are heavier than the average weight.\")\n",
    "else:\n",
    "    print(\"At least one penguin is not heavier than the average weight.\")"
   ]
  },
  {
   "cell_type": "markdown",
   "metadata": {},
   "source": [
    "### Loops (Automation)\n",
    "\n",
    "Sometimes we will want to repeat the exact same task again and again. In python, loops allow us to create this type of automations to repeat tasks efficiently. The most common types of loops are using *for* and *while*. A for loop is often used to iterate over a sequence such as a list executing the same code for each element in the list. A while loop continues to run as long as a specified condition remains true. "
   ]
  },
  {
   "cell_type": "code",
   "execution_count": null,
   "metadata": {},
   "outputs": [],
   "source": [
    "## The final piece is to look at loops which allows us to iterate over our collection data types\n",
    "\n",
    "## Let's start with a simple for loop to iterate over a list of islands\n",
    "for island in islands:\n",
    "    print(\"Island:\", island)"
   ]
  },
  {
   "cell_type": "code",
   "execution_count": null,
   "metadata": {},
   "outputs": [],
   "source": [
    "## we can also use the range function to iterate over a list by the index values \n",
    "for i in range(len(islands)):\n",
    "    print(f\"Island {i + 1}: {islands[i]}\")\n"
   ]
  },
  {
   "cell_type": "code",
   "execution_count": null,
   "metadata": {},
   "outputs": [],
   "source": [
    "## now let's combine loops and conditional statements\n",
    "for penguin_id, details in summer_population.items():\n",
    "    if details[\"weight\"] > 3.5:\n",
    "        print(f\"Penguin {penguin_id} is larger than 3.5 kg and was found in {details['island']}\")"
   ]
  }
 ],
 "metadata": {
  "kernelspec": {
   "display_name": "base",
   "language": "python",
   "name": "python3"
  },
  "language_info": {
   "codemirror_mode": {
    "name": "ipython",
    "version": 3
   },
   "file_extension": ".py",
   "mimetype": "text/x-python",
   "name": "python",
   "nbconvert_exporter": "python",
   "pygments_lexer": "ipython3",
   "version": "3.12.4"
  }
 },
 "nbformat": 4,
 "nbformat_minor": 2
}
